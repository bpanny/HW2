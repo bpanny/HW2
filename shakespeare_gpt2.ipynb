{
  "nbformat": 4,
  "nbformat_minor": 0,
  "metadata": {
    "colab": {
      "provenance": [],
      "toc_visible": true,
      "gpuType": "T4",
      "include_colab_link": true
    },
    "kernelspec": {
      "name": "python3",
      "display_name": "Python 3"
    },
    "language_info": {
      "name": "python"
    },
    "accelerator": "GPU"
  },
  "cells": [
    {
      "cell_type": "markdown",
      "metadata": {
        "id": "view-in-github",
        "colab_type": "text"
      },
      "source": [
        "<a href=\"https://colab.research.google.com/github/bpanny/HW2/blob/master/shakespeare_gpt2.ipynb\" target=\"_parent\"><img src=\"https://colab.research.google.com/assets/colab-badge.svg\" alt=\"Open In Colab\"/></a>"
      ]
    },
    {
      "cell_type": "markdown",
      "source": [
        "Fine-tune GPT-2 on works of Shakespeare, generate from it.\n",
        "Uses `gpt-2-simple` package\n",
        "\n",
        "Based on:\n",
        "Trying https://colab.research.google.com/drive/1VLG8e7YSEwypxU-noRNhsv5dW4NfTGce#scrollTo=ClJwpF_ACONp"
      ],
      "metadata": {
        "id": "DRyPcoC_Zu0m"
      }
    },
    {
      "cell_type": "code",
      "source": [
        "!pip install -q gpt-2-simple"
      ],
      "metadata": {
        "id": "2pToIrvOlp28"
      },
      "execution_count": null,
      "outputs": []
    },
    {
      "cell_type": "code",
      "source": [
        "import gpt_2_simple as gpt2\n",
        "# from psutil import virtual_memory\n",
        "# import os\n",
        "# import shutil"
      ],
      "metadata": {
        "id": "pYejz7PtljtZ"
      },
      "execution_count": null,
      "outputs": []
    },
    {
      "cell_type": "code",
      "source": [
        "#download base model\n",
        "#Model sizes availible are 124M, 355M, 774M, 1558M\n",
        "gpt2.download_gpt2(model_name=\"124M\")"
      ],
      "metadata": {
        "id": "TZz-7dk6mS65"
      },
      "execution_count": null,
      "outputs": []
    },
    {
      "cell_type": "markdown",
      "source": [
        "# Load Shakespeare data\n"
      ],
      "metadata": {
        "id": "L_0u605Sanj2"
      }
    },
    {
      "cell_type": "code",
      "source": [
        "# Upload the Shakespeare CSV from Homework 1 https://michaelmilleryoder.github.io/cs2731_fall2023/hw1\n",
        "from google.colab import files\n",
        "files.upload()"
      ],
      "metadata": {
        "id": "ZLL_HhQFa9Zo"
      },
      "execution_count": null,
      "outputs": []
    },
    {
      "cell_type": "code",
      "source": [
        "# NEED TO FILL IN\n",
        "# Extract the text (final column)\n",
        "# Save the text to a file named shakespeare.txt in the working directory,\n",
        "# with newlines or other whitespace separating the lines"
      ],
      "metadata": {
        "id": "j30iBO_eah2l"
      },
      "execution_count": null,
      "outputs": []
    },
    {
      "cell_type": "markdown",
      "source": [
        "# Fine-tune GPT-2"
      ],
      "metadata": {
        "id": "bx-Aj_yk6367"
      }
    },
    {
      "cell_type": "code",
      "source": [
        "# Feel free to modify these parameters, though larger models usually lead to running out of GPU RAM\n",
        "#the path to folder or files to train on\n",
        "dataset = \"shakespeare.txt\"\n",
        "#variant of the model\n",
        "model_name=\"124M\"\n",
        "#how many steps it will perform\n",
        "steps=60\n",
        "#determines whether to start from the base or a later checkpoint, more to follow about this\n",
        "restore_from=\"fresh\"\n",
        "#Set to `True` if you want to continue finetuning an existing model\n",
        "#(w/ `restore_from='latest'`) without creating duplicate copies.\n",
        "overwrite=True\n",
        "#how often to print results\n",
        "print_every=1\n",
        "#how often to provide with generated samples\n",
        "sample_every=100000\n",
        "#when providing sample, how many tokens to generate\n",
        "sample_length=100\n",
        "#how often to save a check point\n",
        "save_every=20\n",
        "\n",
        "#starting tensor flow session\n",
        "sess = gpt2.start_tf_sess()\n",
        "\n",
        "#finetuning\n",
        "gpt2.finetune(sess,\n",
        "              dataset=dataset,\n",
        "              model_name=model_name,\n",
        "              steps=steps,\n",
        "              restore_from=restore_from,\n",
        "              overwrite=overwrite,\n",
        "              print_every=print_every,\n",
        "              sample_every=sample_every,\n",
        "              save_every=save_every,\n",
        "              sample_length=sample_length,\n",
        "              # use_memory_saving_gradients = True,\n",
        "              # only_train_transformer_layers= True,\n",
        "              # accumulate_gradients=1\n",
        "              )\n",
        "print(\"Finetuning Complete\")"
      ],
      "metadata": {
        "id": "mBpMAnkVnm4P"
      },
      "execution_count": null,
      "outputs": []
    },
    {
      "cell_type": "markdown",
      "source": [
        "# Generate text\n",
        "You **must** restart the runtime before generating text (Runtime > Restart runtime), and before re-running this cell for any reason"
      ],
      "metadata": {
        "id": "X2pm8AVUpBwJ"
      }
    },
    {
      "cell_type": "code",
      "source": [
        "# Need to restart runtime after training, then run this cel\n",
        "import gpt_2_simple as gpt2\n",
        "\n",
        "sess = gpt2.start_tf_sess()\n",
        "\n",
        "gpt2.load_gpt2(sess, run_name='run1')"
      ],
      "metadata": {
        "id": "_mEU2f7qpEoB"
      },
      "execution_count": null,
      "outputs": []
    },
    {
      "cell_type": "code",
      "source": [
        "#can run this block as many times as you want\n",
        "#Parameters (feel free to experiment)\n",
        "length=40\n",
        "temperature=.7\n",
        "prefix=\"My name is Shakespeare, and I\"\n",
        "nsamples=5\n",
        "batch_size=5\n",
        "top_k=0\n",
        "top_p=1\n",
        "\n",
        "print(\"\\n\")\n",
        "\n",
        "gpt2.generate(sess,\n",
        "              length=length,\n",
        "              temperature=temperature,\n",
        "              top_k=top_k,\n",
        "              top_p=top_p,\n",
        "              prefix=prefix,\n",
        "              nsamples=nsamples,\n",
        "              batch_size=batch_size\n",
        ")"
      ],
      "metadata": {
        "id": "Y3UbQo6cpKoZ"
      },
      "execution_count": null,
      "outputs": []
    },
    {
      "cell_type": "markdown",
      "source": [
        "**Extra things to do**: Test the same prompts with a GPT-2 model that has not been fine-tuned on Shakespeare\n",
        "\n",
        "Otherwise, try the BERT classification task on the slides"
      ],
      "metadata": {
        "id": "7llaKq7tNH6h"
      }
    }
  ]
}